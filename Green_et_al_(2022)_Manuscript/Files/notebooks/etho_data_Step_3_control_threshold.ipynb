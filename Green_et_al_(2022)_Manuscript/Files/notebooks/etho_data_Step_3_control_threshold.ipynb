{
 "cells": [
  {
   "cell_type": "markdown",
   "metadata": {},
   "source": [
    "## Thresholding data to remove outlier frames\n",
    "\n",
    "#### The purpose of the script is to use standardized data from step 2 and remove outliers.\n",
    "\n",
    "- Based on Burgess,H.A. et al. (2007) J. Neurosci., 27, 4984–4994. a zebrafish larvae can move about 2.5 times it's body length during a startle response (120 frames at 1000 frames/second)\n",
    "- Zfin data indicates that the average zf larval length at 5 dpf is 3.9 mm\n",
    "\n",
    "Therefore the max distance moved threshold is ~3.25 mm per frame in our system ( 25 frames per second ).\n",
    " - (1s/25f) * (3.9mm * 2.5) / (120f/1000f/1s)\n",
    "\n",
    "by: Dr. Adrian Green, *Fall 2021*"
   ]
  },
  {
   "cell_type": "code",
   "execution_count": 1,
   "metadata": {},
   "outputs": [],
   "source": [
    "# import libraries\n",
    "import numpy as np\n",
    "import pandas as pd\n",
    "import seaborn as sns\n",
    "import matplotlib.pyplot as plt\n",
    "import os\n",
    "import warnings\n",
    "\n",
    "# import math and stat libraries\n",
    "from scipy.stats import ks_2samp, zscore\n",
    "import math\n",
    "\n",
    "from Green_scripts_v1 import agg_by_time, load_obj"
   ]
  },
  {
   "cell_type": "markdown",
   "metadata": {},
   "source": [
    "### Analyze data to find larvae with significantly different distance moved.\n",
    "\n",
    "#### 1. Compare treated and control using KS test\n",
    " - collapse data to acclmation/background (**A**), light phase (**L**), dark phase (**D**)\n",
    " - see Reif,D.M. et al. (2016) Arch Toxicol, 90, 1459–1470"
   ]
  },
  {
   "cell_type": "markdown",
   "metadata": {},
   "source": [
    "#### Load data"
   ]
  },
  {
   "cell_type": "code",
   "execution_count": 2,
   "metadata": {},
   "outputs": [],
   "source": [
    "# load all location data for processing\n",
    "basedirname = '/home2/ajgreen4/ZF_Projects/HTS_Behavior_Project'\n",
    "data_path = basedirname + '/results/'\n",
    "\n",
    "# Loading the dataset \n",
    "all_movement = load_obj(data_path, \"5dpf_2nd_cycle_movement-etho_data_Step2_standardize_analyze_output\")\n",
    "\n",
    "# load all location data for processing\n",
    "pcwKey = pd.read_csv(basedirname + \"/Raw_Data_Files/plateTable.csv\")"
   ]
  },
  {
   "cell_type": "code",
   "execution_count": 3,
   "metadata": {},
   "outputs": [
    {
     "data": {
      "image/png": "[encoded data removed]",
      "text/plain": [
       "<Figure size 432x288 with 1 Axes>"
      ]
     },
     "metadata": {},
     "output_type": "display_data"
    }
   ],
   "source": [
    "test = agg_by_time(all_movement, 0, 1560, 60, ['PlateID', 'ChemID', 'Well', 'Conc'])\n",
    "\n",
    "df = test.groupby(by=['Trial time'], \n",
    "                 sort=False)['Distance moved'].mean().reset_index()\n",
    "\n",
    "# plot\n",
    "plt.plot('Trial time', 'Distance moved', data=df, linestyle='-', marker='o')\n",
    "# Add titles\n",
    "plt.title(\"A plot of average ZF control data\", loc='center', fontsize=12, fontweight=0, color='orange')\n",
    "plt.xlabel(\"Time\")\n",
    "plt.xticks( range(0,1560,120) )   # Put x axis ticks every 60 units.\n",
    "plt.ylabel(\"Distance moved (µm)\")\n",
    "\n",
    "plt.show()"
   ]
  },
  {
   "cell_type": "code",
   "execution_count": 4,
   "metadata": {},
   "outputs": [
    {
     "name": "stdout",
     "output_type": "stream",
     "text": [
      "(33993000, 10)\n",
      "(30825000, 10)\n",
      "CPU times: user 4.28 s, sys: 2.27 s, total: 6.55 s\n",
      "Wall time: 6.51 s\n"
     ]
    }
   ],
   "source": [
    "%%time\n",
    "# Remove experiments that don't use Tropical5D zebrafish\n",
    "print(all_movement.shape)\n",
    "drop_chems = ['Vitality tablets', 'TCDD Wildtype', 'TCDD Wfikkn1', 'Wfikkn1 Wildtype']\n",
    "\n",
    "chem = pcwKey.loc[(pcwKey['Chemical.Name'].isin(drop_chems)), 'ChemID'].unique()\n",
    "all_movement = all_movement[~all_movement['ChemID'].isin(chem)]\n",
    "print(all_movement.shape)"
   ]
  },
  {
   "cell_type": "markdown",
   "metadata": {},
   "source": [
    "### All movement based"
   ]
  },
  {
   "cell_type": "code",
   "execution_count": 5,
   "metadata": {},
   "outputs": [
    {
     "name": "stdout",
     "output_type": "stream",
     "text": [
      "Maximum movement in one frame:  5.68944 mm\n"
     ]
    }
   ],
   "source": [
    "all_movement_DM = all_movement['Distance moved'].copy()\n",
    "\n",
    "print('Maximum movement in one frame: ', all_movement_DM[all_movement_DM.idxmax()], 'mm')"
   ]
  },
  {
   "cell_type": "code",
   "execution_count": 6,
   "metadata": {},
   "outputs": [
    {
     "name": "stdout",
     "output_type": "stream",
     "text": [
      "Number of outlier frames: 5445\n"
     ]
    }
   ],
   "source": [
    "print('Number of outlier frames: ' + str(np.sum(all_movement_DM>3.25))) # count \n",
    "outlier_rows = np.where(all_movement_DM>3.25)[0]"
   ]
  },
  {
   "cell_type": "code",
   "execution_count": 7,
   "metadata": {},
   "outputs": [
    {
     "name": "stdout",
     "output_type": "stream",
     "text": [
      "All data:  (30825000, 10)\n",
      "Cleaned data:  (30825000, 10)\n"
     ]
    }
   ],
   "source": [
    "all_movement_o = all_movement.copy()\n",
    "all_movement_o.loc[(all_movement_o.index[outlier_rows]), 'Distance moved'] = 3.25\n",
    "\n",
    "print('All data: ', all_movement.shape)\n",
    "print('Cleaned data: ', all_movement_o.shape)"
   ]
  },
  {
   "cell_type": "code",
   "execution_count": 8,
   "metadata": {},
   "outputs": [
    {
     "name": "stdout",
     "output_type": "stream",
     "text": [
      "Maximum movement in one frame:  3.25 mm\n"
     ]
    }
   ],
   "source": [
    "all_movement_DM = all_movement_o['Distance moved'].copy()\n",
    "\n",
    "print('Maximum movement in one frame: ', all_movement_DM[all_movement_DM.idxmax()], 'mm')"
   ]
  },
  {
   "cell_type": "code",
   "execution_count": 9,
   "metadata": {},
   "outputs": [],
   "source": [
    "all_movement_o.to_csv(data_path + \"5dpf_2nd_cycle_movement-etho_data_Step3_threshold_output_cleaned.csv\", index=False)"
   ]
  },
  {
   "cell_type": "code",
   "execution_count": null,
   "metadata": {},
   "outputs": [],
   "source": []
  }
 ],
 "metadata": {
  "kernelspec": {
   "display_name": "Python 3 (ipykernel)",
   "language": "python",
   "name": "python3"
  },
  "language_info": {
   "codemirror_mode": {
    "name": "ipython",
    "version": 3
   },
   "file_extension": ".py",
   "mimetype": "text/x-python",
   "name": "python",
   "nbconvert_exporter": "python",
   "pygments_lexer": "ipython3",
   "version": "3.7.5"
  }
 },
 "nbformat": 4,
 "nbformat_minor": 4
}
