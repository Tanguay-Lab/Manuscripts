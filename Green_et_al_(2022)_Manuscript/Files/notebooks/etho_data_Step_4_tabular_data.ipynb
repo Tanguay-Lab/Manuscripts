{
 "cells": [
  {
   "cell_type": "markdown",
   "metadata": {},
   "source": [
    "## Thresholding data to remove outlier frames\n",
    "\n",
    "#### The purpose of the script is to use data from step 3 to:\n",
    "- Create 3D numpy data tables\n",
    "- Split movement data and experimental details\n",
    "\n",
    "by: Dr. Adrian Green, *Fall 2021*"
   ]
  },
  {
   "cell_type": "code",
   "execution_count": 1,
   "metadata": {},
   "outputs": [],
   "source": [
    "# import libraries\n",
    "import numpy as np\n",
    "import pandas as pd\n",
    "import sys\n",
    "import os\n",
    "import math\n",
    "\n",
    "from Green_scripts_v1 import zf_behavior_KStest"
   ]
  },
  {
   "cell_type": "markdown",
   "metadata": {},
   "source": [
    "### Load data"
   ]
  },
  {
   "cell_type": "code",
   "execution_count": 2,
   "metadata": {},
   "outputs": [],
   "source": [
    "# load all location data for processing\n",
    "basedirname = '/home2/ajgreen4/ZF_Projects/HTS_Behavior_Project'\n",
    "data_path = basedirname + '/results/'\n",
    "\n",
    "# Loading the dataset \n",
    "all_movement = pd.read_csv(data_path + \"5dpf_2nd_cycle_movement-etho_data_Step3_threshold_output_cleaned.csv\")\n",
    "\n",
    "# change units from mm to µm\n",
    "all_movement['Distance moved'] = all_movement['Distance moved']*1000\n",
    "\n",
    "# load all location data for processing\n",
    "pcwKey = pd.read_csv(basedirname + \"/Raw_Data_Files/plateTable.csv\")"
   ]
  },
  {
   "cell_type": "markdown",
   "metadata": {},
   "source": [
    "### Create data tables for autoencoder training"
   ]
  },
  {
   "cell_type": "code",
   "execution_count": 3,
   "metadata": {},
   "outputs": [
    {
     "name": "stdout",
     "output_type": "stream",
     "text": [
      "Total number of larvae:  3425\n",
      "Total number of WT larvae:  706\n",
      "Total number of TX larvae:  2719\n"
     ]
    }
   ],
   "source": [
    "larvae = all_movement.loc[(all_movement['Trial time'] == 720)].count()[0]\n",
    "wt_larvae = all_movement.loc[(all_movement['ClassID'] == 0) & \n",
    "                             (all_movement['Trial time'] == 720)].count()[0]\n",
    "tx_larvae = all_movement.loc[(all_movement['ClassID'] == 2) & \n",
    "                              (all_movement['Trial time'] == 720)].count()[0]\n",
    "\n",
    "print('Total number of larvae: ', larvae)\n",
    "print('Total number of WT larvae: ', wt_larvae)\n",
    "print('Total number of TX larvae: ', tx_larvae)"
   ]
  },
  {
   "cell_type": "code",
   "execution_count": 4,
   "metadata": {},
   "outputs": [
    {
     "name": "stdout",
     "output_type": "stream",
     "text": [
      "Number of Chemicals:  30 \n",
      "\n",
      "All treatments (Chemicals + Doses):  103 \n",
      "\n"
     ]
    }
   ],
   "source": [
    "print('Number of Chemicals: ', len(all_movement['ChemID'].unique()), '\\n')\n",
    "print('All treatments (Chemicals + Doses): ', len(zf_behavior_KStest(all_movement, 3)), '\\n')"
   ]
  },
  {
   "cell_type": "code",
   "execution_count": 5,
   "metadata": {},
   "outputs": [
    {
     "name": "stdout",
     "output_type": "stream",
     "text": [
      "CPU times: user 3h 10min 10s, sys: 24 s, total: 3h 10min 34s\n",
      "Wall time: 3h 3s\n"
     ]
    }
   ],
   "source": [
    "%%time\n",
    "test = all_movement.copy()\n",
    "test = test.fillna(method='pad')\n",
    "\n",
    "# count larvae in dataset to create zero array\n",
    "larvae = 0\n",
    "for plate in test['PlateID'].unique():\n",
    "    for chem in test.loc[(test['PlateID'] == plate)].loc[:,'ChemID'].unique():\n",
    "        for well in test.loc[(test['PlateID'] == plate) & \n",
    "                                 (test['ChemID'] == chem)].loc[:,'Well'].unique():\n",
    "            larvae += 1\n",
    "arr_size = test.loc[(test['PlateID'] == plate) & (test['ChemID'] == chem) & \n",
    "                        (test['Well'] == well)].loc[:,'Trial time':'Velocity'].shape\n",
    "X = np.zeros([larvae, arr_size[0], arr_size[1]])\n",
    "y = np.zeros(larvae)\n",
    "z = pd.DataFrame([], columns=['PlateID', 'ChemID', 'Well', 'Conc']) \n",
    "\n",
    "# fill the array with individual zf movement data (n, 9751, 6)\n",
    "larvae = 0\n",
    "for plate in test['PlateID'].unique():\n",
    "    for chem in test.loc[(test['PlateID'] == plate)].loc[:,'ChemID'].unique():\n",
    "        for conc in test.loc[(test['PlateID'] == plate) & (test['ChemID'] == chem)].loc[:,'Conc'].unique():\n",
    "            for well in test.loc[(test['PlateID'] == plate) & (test['ChemID'] == chem) & \n",
    "                                 (test['Conc'] == conc)].loc[:,'Well'].unique():\n",
    "                zf_movement = test.loc[(test['PlateID'] == plate) & (test['ChemID'] == chem) & \n",
    "                                       (test['Well'] == well) & \n",
    "                                       (test['Conc'] == conc)].loc[:,'Trial time':'ClassID']\n",
    "                y[larvae] = zf_movement['ClassID'].unique()\n",
    "                X[larvae] = zf_movement.drop(['ClassID'], axis=1).to_numpy()\n",
    "                z = z.append(test.loc[(test['PlateID'] == plate) & (test['ChemID'] == chem) & \n",
    "                                            (test['Well'] == well) & \n",
    "                                            (test['Conc'] == conc)].head(1).loc[:,'PlateID':'Conc'])\n",
    "                larvae += 1"
   ]
  },
  {
   "cell_type": "code",
   "execution_count": 6,
   "metadata": {},
   "outputs": [],
   "source": [
    "# Save proccessed data to numpy file - training\n",
    "np.save('/home2/ajgreen4/ZF_Projects/HTS_Behavior_Project/results/5dpf_2nd_cycle_movement_X_data.npy',X)\n",
    "np.save('/home2/ajgreen4/ZF_Projects/HTS_Behavior_Project/results/5dpf_2nd_cycle_movement_y_data.npy',y)\n",
    "z.to_csv('/home2/ajgreen4/ZF_Projects/HTS_Behavior_Project/results/5dpf_2nd_cycle_movement_z_data.csv', index=False)"
   ]
  },
  {
   "cell_type": "code",
   "execution_count": null,
   "metadata": {},
   "outputs": [],
   "source": []
  }
 ],
 "metadata": {
  "kernelspec": {
   "display_name": "Python 3 (ipykernel)",
   "language": "python",
   "name": "python3"
  },
  "language_info": {
   "codemirror_mode": {
    "name": "ipython",
    "version": 3
   },
   "file_extension": ".py",
   "mimetype": "text/x-python",
   "name": "python",
   "nbconvert_exporter": "python",
   "pygments_lexer": "ipython3",
   "version": "3.7.5"
  }
 },
 "nbformat": 4,
 "nbformat_minor": 4
}
